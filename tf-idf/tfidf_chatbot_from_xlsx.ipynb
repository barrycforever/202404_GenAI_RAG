{
 "cells": [
  {
   "cell_type": "code",
   "execution_count": 1,
   "id": "b3a26a06",
   "metadata": {
    "id": "b3a26a06"
   },
   "outputs": [],
   "source": [
    "#https://medium.com/analytics-vidhya/building-a-simple-chatbot-in-python-using-nltk-7c8c8215ac6e\n",
    "\n",
    "import nltk\n",
    "import numpy as np\n",
    "import random\n",
    "import string # to process standard python strings\n",
    "\n",
    "import warnings\n",
    "warnings.filterwarnings(\"ignore\")"
   ]
  },
  {
   "cell_type": "code",
   "execution_count": 2,
   "id": "KIsgMEW0zNvh",
   "metadata": {
    "colab": {
     "base_uri": "https://localhost:8080/"
    },
    "id": "KIsgMEW0zNvh",
    "outputId": "be76f666-7b39-45dc-ce7d-6a59039df6c2"
   },
   "outputs": [],
   "source": [
    "# from google.colab import drive\n",
    "# drive.mount('/content/gdrive')"
   ]
  },
  {
   "cell_type": "code",
   "execution_count": 3,
   "id": "z15OPHA1zSSV",
   "metadata": {
    "colab": {
     "base_uri": "https://localhost:8080/"
    },
    "id": "z15OPHA1zSSV",
    "outputId": "095a1e79-33ef-4ce9-c9e0-a1bf6c131f0a"
   },
   "outputs": [],
   "source": [
    "# !ls -l /content/gdrive"
   ]
  },
  {
   "cell_type": "code",
   "execution_count": 4,
   "id": "ba8fcf47",
   "metadata": {
    "colab": {
     "base_uri": "https://localhost:8080/"
    },
    "id": "ba8fcf47",
    "outputId": "b036f660-5a80-4cde-e0ae-a77002a27dba"
   },
   "outputs": [
    {
     "name": "stderr",
     "output_type": "stream",
     "text": [
      "[nltk_data] Downloading package punkt to /Users/barrychiu/nltk_data...\n",
      "[nltk_data]   Package punkt is already up-to-date!\n",
      "[nltk_data] Downloading package wordnet to\n",
      "[nltk_data]     /Users/barrychiu/nltk_data...\n",
      "[nltk_data]   Package wordnet is already up-to-date!\n",
      "[nltk_data] Downloading package stopwords to\n",
      "[nltk_data]     /Users/barrychiu/nltk_data...\n",
      "[nltk_data]   Package stopwords is already up-to-date!\n"
     ]
    }
   ],
   "source": [
    "import pandas as pd\n",
    "\n",
    "# read the second sheet of the Excel file into a pandas dataframe\n",
    "# https://www.northwestern.edu/hr/documents/benefits/2023-benefits-guide.pdf\n",
    "#df = pd.read_excel('/content/gdrive/MyDrive/nu_benefits.xlsx', sheet_name='Sheet1')        # Google Drive\n",
    "#df = pd.read_excel('c:/users/username/Downloads/nu_benefits.xlsx', sheet_name='Sheet1')    # Windows\n",
    "df = pd.read_excel('/Users/user/Downloads/nu_benefits.xlsx', sheet_name='Sheet1')           # Mac\n",
    "\n",
    "#f=open('/Users/user/Downloads/chatbot.txt','r',errors = 'ignore')\n",
    "#raw=f.read()\n",
    "#raw=raw.lower()# converts to lowercase\n",
    "\n",
    "nltk.download('punkt') # first-time use only\n",
    "nltk.download('wordnet') # first-time use only\n",
    "nltk.download('stopwords') # first-time use only\n",
    "\n",
    "#page_tokens = nltk.sent_tokenize(raw)# converts to list of pages\n",
    "from_xlsx = df['Text'].tolist()\n",
    "for i in range(len(from_xlsx)):\n",
    "    from_xlsx[i] = from_xlsx[i].replace(\"\\n\", \" \")\n",
    "\n",
    "all_text = \" \".join(from_xlsx)\n",
    "raw= all_text.lower()\n",
    "#s\n",
    "# page_tokens are tokens for the entire paragraph or page.\n",
    "page_tokens = from_xlsx\n",
    "word_tokens = nltk.word_tokenize(raw)# converts to list of words"
   ]
  },
  {
   "cell_type": "code",
   "execution_count": 5,
   "id": "460b8e00",
   "metadata": {
    "id": "460b8e00"
   },
   "outputs": [],
   "source": [
    "# https://stackoverflow.com/questions/17390326/getting-rid-of-stop-words-and-document-tokenization-using-nltk\n",
    "from nltk.corpus import stopwords\n",
    "from nltk import word_tokenize\n",
    "\n",
    "\n",
    "lemmer = nltk.stem.WordNetLemmatizer()\n",
    "#WordNet is a semantically-oriented dictionary of English included in NLTK.\n",
    "def LemTokens(tokens):\n",
    "    return [lemmer.lemmatize(token) for token in tokens]\n",
    "remove_punct_dict = dict((ord(punct), None) for punct in string.punctuation)\n",
    "def LemNormalize(text):\n",
    "    stop = set(stopwords.words('english') + list(string.punctuation))\n",
    "    text2= ' '.join([i for i in word_tokenize(text.lower()) if i not in stop])\n",
    "    return LemTokens(nltk.word_tokenize(text2.lower().translate(remove_punct_dict)))"
   ]
  },
  {
   "cell_type": "code",
   "execution_count": 6,
   "id": "0304a1a9",
   "metadata": {
    "id": "0304a1a9"
   },
   "outputs": [],
   "source": [
    "GREETING_INPUTS = (\"hello\", \"hi\", \"greetings\", \"sup\", \"what's up\",\"hey\",)\n",
    "GREETING_RESPONSES = [\"hi\", \"hey\", \"*nods*\", \"hi there\", \"hello\", \"I am glad! You are talking to me\"]\n",
    "def greeting(sentence):\n",
    " \n",
    "    for word in sentence.split():\n",
    "        if word.lower() in GREETING_INPUTS:\n",
    "            return random.choice(GREETING_RESPONSES)"
   ]
  },
  {
   "cell_type": "code",
   "execution_count": 7,
   "id": "1a1ef494",
   "metadata": {
    "id": "1a1ef494"
   },
   "outputs": [],
   "source": [
    "from sklearn.feature_extraction.text import TfidfVectorizer\n",
    "from sklearn.metrics.pairwise import cosine_similarity"
   ]
  },
  {
   "cell_type": "code",
   "execution_count": 8,
   "id": "7cd3264d",
   "metadata": {
    "id": "7cd3264d"
   },
   "outputs": [],
   "source": [
    "# https://stackoverflow.com/questions/17390326/getting-rid-of-stop-words-and-document-tokenization-using-nltk\n",
    "\n",
    "\n",
    "def response(user_response):\n",
    "    robo_response=''\n",
    "    # TfidfVec = TfidfVectorizer(tokenizer=LemNormalize, stop_words='english')\n",
    "    TfidfVec = TfidfVectorizer(tokenizer=LemNormalize)\n",
    "    tfidf = TfidfVec.fit_transform(page_tokens)\n",
    "    vals = cosine_similarity(tfidf[-1], tfidf)\n",
    "    idx=vals.argsort()[0][-2]\n",
    "    flat = vals.flatten()\n",
    "    flat.sort()\n",
    "    req_tfidf = flat[-2]\n",
    "    if(req_tfidf==0):\n",
    "        robo_response=robo_response+\"I am sorry! I don't understand you\"\n",
    "        return robo_response\n",
    "    else:\n",
    "        # found page, now search for a sentence on the page\n",
    "        TfidfVec2 = TfidfVectorizer(tokenizer=LemNormalize)\n",
    "        #print(page_tokens[idx])\n",
    "        specific_sent_tokens2 = nltk.sent_tokenize(page_tokens[idx])\n",
    "        specific_sent_tokens2.append(user_response)\n",
    "        #word_tokens=word_tokens+nltk.word_tokenize(user_response)\n",
    "        tfidf2 = TfidfVec2.fit_transform(specific_sent_tokens2)     \n",
    "        vals2 = cosine_similarity(tfidf2[-1], tfidf2)\n",
    "        idx2=vals2.argsort()[0][-2]\n",
    "        flat2 = vals2.flatten()\n",
    "        flat2.sort()\n",
    "        req_tfidf2 = flat2[-2]\n",
    "        if(req_tfidf2==0):\n",
    "            robo_response=robo_response+\"I am sorry! I don't understand you\"\n",
    "            return robo_response        \n",
    "        robo_response = robo_response+specific_sent_tokens2[idx2]\n",
    "        return robo_response"
   ]
  },
  {
   "cell_type": "code",
   "execution_count": 9,
   "id": "bff45ccc",
   "metadata": {
    "colab": {
     "base_uri": "https://localhost:8080/",
     "height": 656
    },
    "id": "bff45ccc",
    "outputId": "d98c50c0-d885-4cb6-96eb-6a31291a48d7"
   },
   "outputs": [
    {
     "name": "stdout",
     "output_type": "stream",
     "text": [
      "\n",
      "ROBO: My name is Robo. I will answer your queries. If you want to exit, type Bye\n"
     ]
    },
    {
     "name": "stdin",
     "output_type": "stream",
     "text": [
      " What PPOs are available?\n"
     ]
    },
    {
     "name": "stdout",
     "output_type": "stream",
     "text": [
      "\n",
      "\n",
      "ROBO: Northwestern offers four medical plans: §\tPremier PPO, Select PPO, and Value PPO – three preferred provider options (PPOs) that offer the flexibility to go to any provider you choose (though you will receive greater benefits and pay lower out-of-pocket costs when you see a provider who is a member of the Northwestern Medicine or BlueCross BlueShield PPO Network).\n",
      "\n"
     ]
    },
    {
     "name": "stdin",
     "output_type": "stream",
     "text": [
      " Bye\n"
     ]
    },
    {
     "name": "stdout",
     "output_type": "stream",
     "text": [
      "\n",
      "ROBO: Bye! take care..\n"
     ]
    }
   ],
   "source": [
    "flag=True\n",
    "print(\"\\nROBO: My name is Robo. I will answer your queries. If you want to exit, type Bye\")\n",
    "while(flag==True):\n",
    "    user_response = input()\n",
    "    user_response=user_response.lower()\n",
    "    if(user_response!='bye'):\n",
    "        if(user_response=='thanks' or user_response=='thank you' ):\n",
    "            flag=False\n",
    "            print(\"\\nROBO: You are welcome..\")\n",
    "        else:\n",
    "            if(greeting(user_response)!=None):\n",
    "                print(\"\\nROBO: \"+greeting(user_response))\n",
    "            else:\n",
    "                page_tokens.append(user_response)\n",
    "                word_tokens=word_tokens+nltk.word_tokenize(user_response)\n",
    "                final_words=list(set(word_tokens))\n",
    "                print()\n",
    "                print(\"\\nROBO: \",end=\"\")\n",
    "                print(response(user_response))\n",
    "                page_tokens.remove(user_response)\n",
    "                print()\n",
    "    else:\n",
    "        flag=False\n",
    "        print(\"\\nROBO: Bye! take care..\")"
   ]
  },
  {
   "cell_type": "code",
   "execution_count": null,
   "id": "e425e50d",
   "metadata": {
    "id": "e425e50d"
   },
   "outputs": [],
   "source": [
    "# What is the employee reduced tuition benefit?\n",
    "\n",
    "# What is reduced tuition benefit for my spouse for undergraduate classes?\n",
    "\n",
    "# What PPOs are available?\n",
    "\n",
    "# When am I eligible for benefits?\n",
    "\n"
   ]
  },
  {
   "cell_type": "code",
   "execution_count": null,
   "id": "0cbca78b",
   "metadata": {
    "id": "0cbca78b"
   },
   "outputs": [],
   "source": []
  }
 ],
 "metadata": {
  "colab": {
   "provenance": []
  },
  "kernelspec": {
   "display_name": "Python 3 (ipykernel)",
   "language": "python",
   "name": "python3"
  },
  "language_info": {
   "codemirror_mode": {
    "name": "ipython",
    "version": 3
   },
   "file_extension": ".py",
   "mimetype": "text/x-python",
   "name": "python",
   "nbconvert_exporter": "python",
   "pygments_lexer": "ipython3",
   "version": "3.11.7"
  }
 },
 "nbformat": 4,
 "nbformat_minor": 5
}
